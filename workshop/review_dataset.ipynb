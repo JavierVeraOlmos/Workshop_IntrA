{
 "cells": [
  {
   "cell_type": "code",
   "execution_count": null,
   "metadata": {},
   "outputs": [],
   "source": [
    "import trimesh\n",
    "import numpy as np\n",
    "import random\n",
    "import math"
   ]
  },
  {
   "cell_type": "code",
   "execution_count": null,
   "metadata": {},
   "outputs": [],
   "source": [
    "# sample from the dataset\n",
    "path_obj = \"../dataset/IntrA/annotated/obj/AN135_full.obj\"\n",
    "file_path = \"../dataset/IntrA/annotated/ad/AN135-_norm.ad\"\n",
    "# AN135-\n",
    "# AN9-2\n",
    "# Load the data from the text file into a NumPy array\n",
    "data_array = np.loadtxt(file_path)\n",
    "\n",
    "data_array[0]"
   ]
  },
  {
   "cell_type": "code",
   "execution_count": null,
   "metadata": {},
   "outputs": [],
   "source": [
    "np.unique(data_array[:,-1])"
   ]
  },
  {
   "cell_type": "code",
   "execution_count": null,
   "metadata": {},
   "outputs": [],
   "source": [
    "data_array[data_array[:,-1] == 2, -1] = 1\n",
    "np.unique(data_array[:,-1])"
   ]
  },
  {
   "cell_type": "code",
   "execution_count": null,
   "metadata": {},
   "outputs": [],
   "source": [
    "mesh = trimesh.load_mesh(path_obj)"
   ]
  },
  {
   "cell_type": "code",
   "execution_count": null,
   "metadata": {},
   "outputs": [],
   "source": [
    "vessel_color = [255, 0, 0, 255]\n",
    "an_color = [0, 255, 0, 255]\n",
    "\n",
    "\n",
    "for index, annotation in enumerate(data_array):\n",
    "    if annotation[-1] != 0:\n",
    "        mesh.visual.vertex_colors[index] = np.array(an_color)\n",
    "    else:\n",
    "        mesh.visual.vertex_colors[index] = np.array(vessel_color)\n",
    "\n",
    "mesh.show() "
   ]
  },
  {
   "cell_type": "code",
   "execution_count": null,
   "metadata": {},
   "outputs": [],
   "source": [
    "mesh.centroid"
   ]
  },
  {
   "cell_type": "code",
   "execution_count": null,
   "metadata": {},
   "outputs": [],
   "source": [
    "tras_mat = trimesh.transformations.translation_matrix(-mesh.centroid)\n",
    "mesh.apply_transform(tras_mat)\n",
    "mesh.centroid"
   ]
  },
  {
   "cell_type": "code",
   "execution_count": null,
   "metadata": {},
   "outputs": [],
   "source": [
    "mesh.show()"
   ]
  },
  {
   "cell_type": "code",
   "execution_count": null,
   "metadata": {},
   "outputs": [],
   "source": [
    "np.max(np.abs(mesh.vertices))"
   ]
  },
  {
   "cell_type": "code",
   "execution_count": null,
   "metadata": {},
   "outputs": [],
   "source": [
    "mesh.vertices = mesh.vertices/np.max(np.abs(mesh.vertices))"
   ]
  },
  {
   "cell_type": "code",
   "execution_count": null,
   "metadata": {},
   "outputs": [],
   "source": [
    "np.max(np.abs(mesh.vertices),axis=0)"
   ]
  },
  {
   "cell_type": "code",
   "execution_count": null,
   "metadata": {},
   "outputs": [],
   "source": [
    "mesh.show()"
   ]
  },
  {
   "cell_type": "code",
   "execution_count": null,
   "metadata": {},
   "outputs": [],
   "source": [
    "vec = np.column_stack((mesh.vertices, mesh.vertices + (mesh.vertex_normals * mesh.scale * .05)))\n",
    "\n",
    "path = trimesh.load_path(vec.reshape((-1, 2, 3)))\n",
    "\n",
    "# SceneViewer(width=3840, height=2160)\n",
    "trimesh.Scene([mesh, path]).show(smooth=False)"
   ]
  },
  {
   "cell_type": "code",
   "execution_count": null,
   "metadata": {},
   "outputs": [],
   "source": [
    "mesh.vertex_normals[0:4]"
   ]
  },
  {
   "cell_type": "code",
   "execution_count": null,
   "metadata": {},
   "outputs": [],
   "source": [
    "data_array[0:4,3:6]"
   ]
  },
  {
   "cell_type": "code",
   "execution_count": null,
   "metadata": {},
   "outputs": [],
   "source": [
    "center = mesh.centroid\n",
    "\n",
    "angle1 = random.uniform(0, math.pi)\n",
    "rot_mat1 = trimesh.transformations.rotation_matrix(angle1, [1,0,0], center)\n",
    "\n",
    "angle2 = random.uniform(0, math.pi)\n",
    "rot_mat2 = trimesh.transformations.rotation_matrix(angle2, [0,1,0], center)\n",
    "\n",
    "angle3 = random.uniform(0, math.pi)\n",
    "rot_mat3 = trimesh.transformations.rotation_matrix(angle3, [0,0,1], center)\n",
    "mesh.apply_transform(rot_mat1@rot_mat2@rot_mat3)\n",
    "\n",
    "mesh.show()"
   ]
  }
 ],
 "metadata": {
  "kernelspec": {
   "display_name": ".venv",
   "language": "python",
   "name": "python3"
  },
  "language_info": {
   "codemirror_mode": {
    "name": "ipython",
    "version": 3
   },
   "file_extension": ".py",
   "mimetype": "text/x-python",
   "name": "python",
   "nbconvert_exporter": "python",
   "pygments_lexer": "ipython3",
   "version": "3.10.12"
  }
 },
 "nbformat": 4,
 "nbformat_minor": 2
}
