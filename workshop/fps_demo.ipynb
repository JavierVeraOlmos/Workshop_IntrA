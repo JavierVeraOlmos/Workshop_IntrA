{
 "cells": [
  {
   "cell_type": "code",
   "execution_count": null,
   "metadata": {},
   "outputs": [],
   "source": [
    "import numpy as np\n",
    "import trimesh"
   ]
  },
  {
   "cell_type": "code",
   "execution_count": null,
   "metadata": {},
   "outputs": [],
   "source": [
    "#farthest_point_sampling\n",
    "# https://github.com/yotamnahum/farthest-point-sampling/tree/main\n",
    "\n",
    "\n",
    "def farthest_point_sampling(arr, n_sample, start_idx=None):\n",
    "    \"\"\"Farthest Point Sampling without the need to compute all pairs of distance.\n",
    "\n",
    "    Parameters\n",
    "    ----------\n",
    "    arr : numpy array\n",
    "        The positional array of shape (n_points, n_dim)\n",
    "    n_sample : int\n",
    "        The number of points to sample.\n",
    "    start_idx : int, optional\n",
    "        If given, appoint the index of the starting point,\n",
    "        otherwise randomly select a point as the start point.\n",
    "        (default: None)\n",
    "\n",
    "    Returns\n",
    "    -------\n",
    "    numpy array of shape (n_sample,)\n",
    "        The sampled indices.\n",
    "\n",
    "    Examples\n",
    "    --------\n",
    "    >>> import numpy as np\n",
    "    >>> data = np.random.rand(100, 1024)\n",
    "    >>> point_idx = farthest_point_sampling(data, 3)\n",
    "    >>> print(point_idx)\n",
    "        array([80, 79, 27])\n",
    "\n",
    "    >>> point_idx = farthest_point_sampling(data, 5, 60)\n",
    "    >>> print(point_idx)\n",
    "        array([60, 39, 59, 21, 73])\n",
    "    \"\"\"\n",
    "    n_points, n_dim = arr.shape\n",
    "\n",
    "    if (start_idx is None) or (start_idx < 0):\n",
    "        start_idx = np.random.randint(0, n_points)\n",
    "\n",
    "    sampled_indices = [start_idx]\n",
    "    min_distances = np.full(n_points, np.inf)\n",
    "    \n",
    "    for _ in range(n_sample - 1):\n",
    "        current_point = arr[sampled_indices[-1]]\n",
    "        dist_to_current_point = np.linalg.norm(arr - current_point, axis=1)\n",
    "        min_distances = np.minimum(min_distances, dist_to_current_point)\n",
    "        farthest_point_idx = np.argmax(min_distances)\n",
    "        sampled_indices.append(farthest_point_idx)\n",
    "\n",
    "    return np.array(sampled_indices)"
   ]
  },
  {
   "cell_type": "code",
   "execution_count": null,
   "metadata": {},
   "outputs": [],
   "source": [
    "path_obj = \"../dataset/IntrA/annotated/obj/AN135_full.obj\"\n",
    "mesh = trimesh.load_mesh(path_obj)\n",
    "mesh.vertices.shape"
   ]
  },
  {
   "cell_type": "code",
   "execution_count": null,
   "metadata": {},
   "outputs": [],
   "source": [
    "mesh.export(\"mesh.obj\", file_type=\"obj\")"
   ]
  },
  {
   "cell_type": "code",
   "execution_count": null,
   "metadata": {},
   "outputs": [],
   "source": [
    "fps_vertex = farthest_point_sampling(np.array(mesh.vertices), 300, start_idx=None)\n",
    "trimesh.Trimesh(vertices=mesh.vertices[fps_vertex]).export(\"fps_mesh.obj\")"
   ]
  }
 ],
 "metadata": {
  "kernelspec": {
   "display_name": ".venv",
   "language": "python",
   "name": "python3"
  },
  "language_info": {
   "codemirror_mode": {
    "name": "ipython",
    "version": 3
   },
   "file_extension": ".py",
   "mimetype": "text/x-python",
   "name": "python",
   "nbconvert_exporter": "python",
   "pygments_lexer": "ipython3",
   "version": "3.10.6"
  }
 },
 "nbformat": 4,
 "nbformat_minor": 2
}
